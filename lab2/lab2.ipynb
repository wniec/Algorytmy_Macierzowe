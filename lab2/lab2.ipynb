{
 "cells": [
  {
   "cell_type": "code",
   "execution_count": 1,
   "id": "cd595342",
   "metadata": {},
   "outputs": [
    {
     "name": "stdout",
     "output_type": "stream",
     "text": [
      "importing Jupyter notebook from lab1.ipynb\n"
     ]
    }
   ],
   "source": [
    "import numpy as np\n",
    "import import_ipynb\n",
    "import os\n",
    "from lab1 import *"
   ]
  },
  {
   "cell_type": "code",
   "execution_count": 25,
   "id": "83ad4238",
   "metadata": {},
   "outputs": [],
   "source": [
    "def mul_sequence(*args):\n",
    "    result, flops, mults = None, 0, 0\n",
    "    for arg in args:\n",
    "        if result is None:\n",
    "            result = arg\n",
    "        else:\n",
    "            result, f, m = strassen_multiply(result, arg)\n",
    "            flops += f\n",
    "            mults += m\n",
    "    return result, flops, mults"
   ]
  },
  {
   "cell_type": "code",
   "execution_count": 7,
   "id": "4031482d",
   "metadata": {},
   "outputs": [],
   "source": [
    "def divide(A, X, Y):\n",
    "    return A[:X//2,:Y//2],A[:X//2,Y//2:],A[X//2:,:Y//2],A[X//2:,Y//2:]"
   ]
  },
  {
   "cell_type": "code",
   "execution_count": 35,
   "id": "31e6e595",
   "metadata": {},
   "outputs": [],
   "source": [
    "def inverse(A):\n",
    "    if A is None:\n",
    "        return 0, 0, 0\n",
    "    X,Y = A.shape[0],A.shape[1]\n",
    "    if X != Y:\n",
    "        raise ValueError\n",
    "    if X==0 or Y==0:\n",
    "        raise ArithmeticError\n",
    "    if X==1 and Y==1:\n",
    "        return 1/A, 1, 1\n",
    "    else:        \n",
    "        A11,A12,A21,A22 = divide(A, X, Y)\n",
    "\n",
    "        inv_A11, flops, mults = inverse(A11)\n",
    "        \n",
    "        S22_partly, f, m = mul_sequence(A21,inv_A11,A12)\n",
    "        S22 = A22 - S22_partly\n",
    "        flops += (A22.size+f)\n",
    "        mults += m\n",
    "        flops += f\n",
    "        \n",
    "        inv_S22, f, m = inverse(S22)\n",
    "        mults += m\n",
    "        flops += f\n",
    "        \n",
    "        B11_partly, B11f, B11m = mul_sequence(inv_A11, A12, inv_S22, A21, inv_A11)\n",
    "        B11 = inv_A11 + B11_partly\n",
    "        flops += B11.size\n",
    "        \n",
    "        B12, B12f, B12m = mul_sequence(-inv_A11, A12, inv_S22)\n",
    "        B21, B21f, B21m = mul_sequence(-inv_S22, A21, inv_A11)\n",
    "        B22 = inv_S22\n",
    "        \n",
    "        U = np.hstack((B11,B12))\n",
    "        L = np.hstack((B21,B22))\n",
    "        flops += sum((B12f, B21f, B11f))\n",
    "        mults += sum((B12m, B21m, B11m))\n",
    "        return np.vstack((U,L)), flops, mults"
   ]
  },
  {
   "cell_type": "code",
   "execution_count": 39,
   "id": "0525aeeb",
   "metadata": {},
   "outputs": [],
   "source": [
    "def LU(A):\n",
    "    if A is None:\n",
    "        return 0, 0, 0, 0\n",
    "    X,Y = A.shape[0],A.shape[1]\n",
    "    if X != Y:\n",
    "        raise ValueError\n",
    "    if X==0 or Y==0:\n",
    "        raise ArithmeticError\n",
    "    if X==1 and Y==1:\n",
    "        return np.array([[1]]), A, 1, 1\n",
    "    else:        \n",
    "        A11,A12,A21,A22 = divide(A, X, Y)\n",
    "\n",
    "        L11, U11, flops, mults = LU(A11)\n",
    "        \n",
    "        inv_U11, fu, mu = inverse(U11)\n",
    "        inv_L11, fl, ml = inverse(L11)\n",
    "        flops += (fu + fl)\n",
    "        mults += (mu + ml)\n",
    "        \n",
    "        S_partly, Sf, Sm = mul_sequence(A21, inv_U11, inv_L11, A12)\n",
    "        S = A22 - S_partly\n",
    "        flops += (Sf + A22.size)\n",
    "        mults += Sm\n",
    "        \n",
    "        Ls, Us, f, m= LU(S)\n",
    "        flops += f\n",
    "        mults += m\n",
    "        \n",
    "        U12, f, m = mul_sequence(inv_L11,A12)\n",
    "        flops += f\n",
    "        mults += m\n",
    "        U21 = np.zeros((Us.shape[0],U11.shape[1]))\n",
    "        \n",
    "        L12 = np.zeros((L11.shape[0],Ls.shape[1]))\n",
    "        L21, f, m = mul_sequence(A21, inv_U11)\n",
    "        flops += f\n",
    "        mults += m\n",
    "        \n",
    "        Uu = np.hstack((U11,U12))\n",
    "        Ul = np.hstack((U21,Us))\n",
    "        U = np.vstack((Uu,Ul))\n",
    "        \n",
    "        Lu = np.hstack((L11,L12))\n",
    "        Ll = np.hstack((L21,Ls))\n",
    "        L = np.vstack((Lu,Ll))\n",
    "        \n",
    "        return L, U, flops, mults"
   ]
  },
  {
   "cell_type": "code",
   "execution_count": 46,
   "id": "2eca4dde",
   "metadata": {},
   "outputs": [],
   "source": [
    "def det(A):\n",
    "    if A is None:\n",
    "        return 0, 0, 0\n",
    "    X,Y = A.shape[0],A.shape[1]\n",
    "    if X != Y:\n",
    "        raise ValueError\n",
    "    if X==0 or Y==0:\n",
    "        raise ArithmeticError\n",
    "    if X==1 and Y==1:\n",
    "        return A[0,0], 0, 0\n",
    "    else:        \n",
    "        A11,A12,A21,A22 = divide(A, X, Y)\n",
    "        L11, U11, flops, mults= LU(A11)\n",
    "        \n",
    "        inv_U11, fu, mu = inverse(U11)\n",
    "        inv_L11, fl, ml = inverse(L11)\n",
    "        \n",
    "        flops += fu + fl\n",
    "        mults += mu + ml\n",
    "        \n",
    "        S_partly, Sf, Sm = mul_sequence(A21, inv_U11, inv_L11, A12)\n",
    "        S = A22 - S_partly\n",
    "        flops += (Sf + A22.size)\n",
    "        mults += Sm\n",
    "        \n",
    "        \n",
    "        det_S, Sf, Sm = det(S)\n",
    "        diagonals_product = np.prod(np.diagonal(U11))*np.prod(np.diagonal(L11))\n",
    "        return diagonals_product*det_S, flops + Sf + np.diagonal(U11).size, mults + Sm + np.diagonal(U11).size"
   ]
  },
  {
   "cell_type": "code",
   "execution_count": 36,
   "id": "a0b5759f",
   "metadata": {},
   "outputs": [],
   "source": [
    "A = np.random.random((3,3))"
   ]
  },
  {
   "cell_type": "code",
   "execution_count": 37,
   "id": "c78c81c1",
   "metadata": {},
   "outputs": [
    {
     "data": {
      "text/plain": [
       "(array([[ -2.9041762 ,  31.7974454 ,  -1.90818211],\n",
       "        [  0.94226952,   5.677443  ,  -2.46207263],\n",
       "        [  6.23277898, -71.79050831,   8.21646924]]),\n",
       " 62,\n",
       " 40)"
      ]
     },
     "execution_count": 37,
     "metadata": {},
     "output_type": "execute_result"
    }
   ],
   "source": [
    "inverse(A)"
   ]
  },
  {
   "cell_type": "code",
   "execution_count": 38,
   "id": "ee98b07b",
   "metadata": {},
   "outputs": [
    {
     "data": {
      "text/plain": [
       "array([[ -2.9041762 ,  31.7974454 ,  -1.90818211],\n",
       "       [  0.94226952,   5.677443  ,  -2.46207263],\n",
       "       [  6.23277898, -71.79050831,   8.21646924]])"
      ]
     },
     "execution_count": 38,
     "metadata": {},
     "output_type": "execute_result"
    }
   ],
   "source": [
    "np.linalg.inv(A)"
   ]
  },
  {
   "cell_type": "code",
   "execution_count": 40,
   "id": "9f6b3752",
   "metadata": {},
   "outputs": [],
   "source": [
    "L, U, flops, mults = LU(A)"
   ]
  },
  {
   "cell_type": "code",
   "execution_count": 41,
   "id": "7e20beda",
   "metadata": {},
   "outputs": [
    {
     "data": {
      "text/plain": [
       "(array([[1.        , 0.        , 0.        ],\n",
       "        [0.17745436, 1.        , 0.        ],\n",
       "        [0.79191674, 8.73739148, 1.        ]]),\n",
       " array([[ 0.81479825,  0.7782775 ,  0.42243926],\n",
       "        [ 0.        , -0.06315265, -0.01892375],\n",
       "        [ 0.        ,  0.        ,  0.12170678]]))"
      ]
     },
     "execution_count": 41,
     "metadata": {},
     "output_type": "execute_result"
    }
   ],
   "source": [
    "L, U"
   ]
  },
  {
   "cell_type": "code",
   "execution_count": 42,
   "id": "716c4d1b",
   "metadata": {},
   "outputs": [
    {
     "data": {
      "text/plain": [
       "array([[0.00000000e+00, 0.00000000e+00, 0.00000000e+00],\n",
       "       [0.00000000e+00, 0.00000000e+00, 0.00000000e+00],\n",
       "       [1.11022302e-16, 0.00000000e+00, 0.00000000e+00]])"
      ]
     },
     "execution_count": 42,
     "metadata": {},
     "output_type": "execute_result"
    }
   ],
   "source": [
    "L@U-A"
   ]
  },
  {
   "cell_type": "code",
   "execution_count": 43,
   "id": "bc5b9cd9",
   "metadata": {},
   "outputs": [
    {
     "data": {
      "text/plain": [
       "(29, 24)"
      ]
     },
     "execution_count": 43,
     "metadata": {},
     "output_type": "execute_result"
    }
   ],
   "source": [
    "flops, mults"
   ]
  },
  {
   "cell_type": "code",
   "execution_count": 47,
   "id": "f1a8be19",
   "metadata": {},
   "outputs": [
    {
     "data": {
      "text/plain": [
       "(-0.006262624938454663, 24, 19)"
      ]
     },
     "execution_count": 47,
     "metadata": {},
     "output_type": "execute_result"
    }
   ],
   "source": [
    "det(A)"
   ]
  },
  {
   "cell_type": "code",
   "execution_count": 48,
   "id": "86cfd751",
   "metadata": {},
   "outputs": [
    {
     "data": {
      "text/plain": [
       "-0.00626262493845467"
      ]
     },
     "execution_count": 48,
     "metadata": {},
     "output_type": "execute_result"
    }
   ],
   "source": [
    "np.linalg.det(A)"
   ]
  },
  {
   "cell_type": "code",
   "execution_count": 20,
   "id": "5f8053ef",
   "metadata": {},
   "outputs": [
    {
     "data": {
      "text/plain": [
       "array([[0.12222078, 0.33992219, 0.5261818 ],\n",
       "       [0.08178844, 0.39596466, 0.98165937],\n",
       "       [0.15982277, 0.34938962, 0.20765982]])"
      ]
     },
     "execution_count": 20,
     "metadata": {},
     "output_type": "execute_result"
    }
   ],
   "source": [
    "A"
   ]
  },
  {
   "cell_type": "code",
   "execution_count": null,
   "id": "46a631c6",
   "metadata": {},
   "outputs": [],
   "source": []
  }
 ],
 "metadata": {
  "kernelspec": {
   "display_name": "Python 3 (ipykernel)",
   "language": "python",
   "name": "python3"
  },
  "language_info": {
   "codemirror_mode": {
    "name": "ipython",
    "version": 3
   },
   "file_extension": ".py",
   "mimetype": "text/x-python",
   "name": "python",
   "nbconvert_exporter": "python",
   "pygments_lexer": "ipython3",
   "version": "3.9.12"
  }
 },
 "nbformat": 4,
 "nbformat_minor": 5
}
