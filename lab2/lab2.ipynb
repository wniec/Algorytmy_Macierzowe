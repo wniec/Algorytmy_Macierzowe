{
 "cells": [
  {
   "cell_type": "code",
   "execution_count": 1,
   "id": "cd595342",
   "metadata": {},
   "outputs": [],
   "source": [
    "import numpy as np"
   ]
  },
  {
   "cell_type": "code",
   "execution_count": 2,
   "id": "4031482d",
   "metadata": {},
   "outputs": [],
   "source": [
    "def divide(A, X, Y):\n",
    "    return A[:X//2,:Y//2],A[:X//2,Y//2:],A[X//2:,:Y//2],A[X//2:,Y//2:]"
   ]
  },
  {
   "cell_type": "code",
   "execution_count": 3,
   "id": "31e6e595",
   "metadata": {},
   "outputs": [],
   "source": [
    "def inverse(A):\n",
    "    if A is None:\n",
    "        return 0\n",
    "    X,Y = A.shape[0],A.shape[1]\n",
    "    if X != Y:\n",
    "        raise ValueError\n",
    "    if X==0 or Y==0:\n",
    "        raise ArithmeticError\n",
    "    if X==1 and Y==1:\n",
    "        return 1/A\n",
    "    else:        \n",
    "        A11,A12,A21,A22 = divide(A, X, Y)\n",
    "\n",
    "        inv_A11= inverse(A11)\n",
    "        \n",
    "        S22 = A22 - (A21 @ inv_A11 @ A12)\n",
    "        \n",
    "        inv_S22 = inverse(S22)\n",
    "        \n",
    "        B11 = inv_A11 + inv_A11 @ A12 @ inv_S22 @A21 @ inv_A11\n",
    "        B12 = -inv_A11 @ A12 @ inv_S22\n",
    "        B21 = -inv_S22 @ A21 @ inv_A11\n",
    "        B22 = inv_S22\n",
    "        \n",
    "        U = np.hstack((B11,B12))\n",
    "        L = np.hstack((B21,B22))\n",
    "        return np.vstack((U,L))"
   ]
  },
  {
   "cell_type": "code",
   "execution_count": 4,
   "id": "0525aeeb",
   "metadata": {},
   "outputs": [],
   "source": [
    "def LU(A):\n",
    "    if A is None:\n",
    "        return 0\n",
    "    X,Y = A.shape[0],A.shape[1]\n",
    "    if X != Y:\n",
    "        raise ValueError\n",
    "    if X==0 or Y==0:\n",
    "        raise ArithmeticError\n",
    "    if X==1 and Y==1:\n",
    "        return np.array([[1]]), A\n",
    "    else:        \n",
    "        A11,A12,A21,A22 = divide(A, X, Y)\n",
    "\n",
    "        L11, U11= LU(A11)\n",
    "        \n",
    "        inv_U11 = inverse(U11)\n",
    "        inv_L11 = inverse(L11)\n",
    "        \n",
    "        S = A22 - (A21 @ inv_U11 @ inv_L11 @ A12)\n",
    "        \n",
    "        Ls, Us = LU(S)\n",
    "        \n",
    "        U12 =  inv_L11 @ A12\n",
    "        U21 = np.zeros((Us.shape[0],U11.shape[1]))\n",
    "        \n",
    "        L12 = np.zeros((L11.shape[0],Ls.shape[1]))\n",
    "        L21 = A21 @ inv_U11        \n",
    "        \n",
    "        Uu = np.hstack((U11,U12))\n",
    "        Ul = np.hstack((U21,Us))\n",
    "        U = np.vstack((Uu,Ul))\n",
    "        \n",
    "        Lu = np.hstack((L11,L12))\n",
    "        Ll = np.hstack((L21,Ls))\n",
    "        L = np.vstack((Lu,Ll))\n",
    "        \n",
    "        return L, U"
   ]
  },
  {
   "cell_type": "code",
   "execution_count": 18,
   "id": "2eca4dde",
   "metadata": {},
   "outputs": [],
   "source": [
    "def det(A):\n",
    "    if A is None:\n",
    "        return 0\n",
    "    X,Y = A.shape[0],A.shape[1]\n",
    "    if X != Y:\n",
    "        raise ValueError\n",
    "    if X==0 or Y==0:\n",
    "        raise ArithmeticError\n",
    "    if X==1 and Y==1:\n",
    "        return A[0,0]\n",
    "    else:        \n",
    "        A11,A12,A21,A22 = divide(A, X, Y)\n",
    "        L11, U11= LU(A11)\n",
    "        \n",
    "        inv_U11 = inverse(U11)\n",
    "        inv_L11 = inverse(L11)\n",
    "        \n",
    "        S = A22 - (A21 @ inv_U11 @ inv_L11 @ A12)\n",
    "               \n",
    "        return np.prod(np.diagonal(U11))*np.prod(np.diagonal(L11))*det(S)"
   ]
  },
  {
   "cell_type": "code",
   "execution_count": 6,
   "id": "a0b5759f",
   "metadata": {},
   "outputs": [],
   "source": [
    "A = np.random.random((3,3))"
   ]
  },
  {
   "cell_type": "code",
   "execution_count": 7,
   "id": "c78c81c1",
   "metadata": {},
   "outputs": [
    {
     "data": {
      "text/plain": [
       "array([[-40.82970299,  -6.39164059,  18.15435459],\n",
       "       [ 57.32901618,   6.01506264, -22.30403437],\n",
       "       [-20.03711628,   0.34223945,   6.53639279]])"
      ]
     },
     "execution_count": 7,
     "metadata": {},
     "output_type": "execute_result"
    }
   ],
   "source": [
    "inverse(A)"
   ]
  },
  {
   "cell_type": "code",
   "execution_count": 8,
   "id": "ee98b07b",
   "metadata": {},
   "outputs": [
    {
     "data": {
      "text/plain": [
       "array([[-40.82970299,  -6.39164059,  18.15435459],\n",
       "       [ 57.32901618,   6.01506264, -22.30403437],\n",
       "       [-20.03711628,   0.34223945,   6.53639279]])"
      ]
     },
     "execution_count": 8,
     "metadata": {},
     "output_type": "execute_result"
    }
   ],
   "source": [
    "np.linalg.inv(A)"
   ]
  },
  {
   "cell_type": "code",
   "execution_count": 9,
   "id": "9f6b3752",
   "metadata": {},
   "outputs": [],
   "source": [
    "L, U = LU(A)"
   ]
  },
  {
   "cell_type": "code",
   "execution_count": 10,
   "id": "7e20beda",
   "metadata": {},
   "outputs": [
    {
     "data": {
      "text/plain": [
       "(array([[ 1.        ,  0.        ,  0.        ],\n",
       "        [ 1.53745173,  1.        ,  0.        ],\n",
       "        [ 2.9849705 , -0.05235907,  1.        ]]),\n",
       " array([[0.28299182, 0.28926812, 0.20107607],\n",
       "        [0.        , 0.1392199 , 0.47505796],\n",
       "        [0.        , 0.        , 0.15298958]]))"
      ]
     },
     "execution_count": 10,
     "metadata": {},
     "output_type": "execute_result"
    }
   ],
   "source": [
    "L, U"
   ]
  },
  {
   "cell_type": "code",
   "execution_count": 11,
   "id": "716c4d1b",
   "metadata": {},
   "outputs": [
    {
     "data": {
      "text/plain": [
       "array([[0., 0., 0.],\n",
       "       [0., 0., 0.],\n",
       "       [0., 0., 0.]])"
      ]
     },
     "execution_count": 11,
     "metadata": {},
     "output_type": "execute_result"
    }
   ],
   "source": [
    "L@U-A"
   ]
  },
  {
   "cell_type": "code",
   "execution_count": 19,
   "id": "f1a8be19",
   "metadata": {},
   "outputs": [
    {
     "data": {
      "text/plain": [
       "0.006027497808359637"
      ]
     },
     "execution_count": 19,
     "metadata": {},
     "output_type": "execute_result"
    }
   ],
   "source": [
    "det(A)"
   ]
  },
  {
   "cell_type": "code",
   "execution_count": 13,
   "id": "86cfd751",
   "metadata": {},
   "outputs": [
    {
     "data": {
      "text/plain": [
       "0.006027497808359637"
      ]
     },
     "execution_count": 13,
     "metadata": {},
     "output_type": "execute_result"
    }
   ],
   "source": [
    "np.linalg.det(A)"
   ]
  },
  {
   "cell_type": "code",
   "execution_count": null,
   "id": "90156aef",
   "metadata": {},
   "outputs": [],
   "source": []
  }
 ],
 "metadata": {
  "kernelspec": {
   "display_name": "Python 3 (ipykernel)",
   "language": "python",
   "name": "python3"
  },
  "language_info": {
   "codemirror_mode": {
    "name": "ipython",
    "version": 3
   },
   "file_extension": ".py",
   "mimetype": "text/x-python",
   "name": "python",
   "nbconvert_exporter": "python",
   "pygments_lexer": "ipython3",
   "version": "3.9.12"
  }
 },
 "nbformat": 4,
 "nbformat_minor": 5
}
