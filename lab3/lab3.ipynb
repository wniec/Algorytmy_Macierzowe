{
 "cells": [
  {
   "cell_type": "code",
   "execution_count": 1,
   "id": "3cb324cc",
   "metadata": {},
   "outputs": [],
   "source": [
    "import numpy as np\n",
    "import matplotlib.pyplot as plt"
   ]
  },
  {
   "cell_type": "code",
   "execution_count": 2,
   "id": "0a693829",
   "metadata": {},
   "outputs": [],
   "source": [
    "def random_matrix(size:int, non_zero_proba: float):\n",
    "    A = np.zeros((size,size))\n",
    "    non_zeros = int(A.size*non_zero_proba)\n",
    "    for i in range(non_zeros):\n",
    "        x = np.random.randint(size)\n",
    "        y = np.random.randint(size)\n",
    "        while A[x,y] != 0:\n",
    "            x = np.random.randint(size)\n",
    "            y = np.random.randint(size)\n",
    "        A[x,y] = np.random.random()\n",
    "    return A"
   ]
  },
  {
   "cell_type": "code",
   "execution_count": 3,
   "id": "918c0aa7",
   "metadata": {},
   "outputs": [],
   "source": [
    "def divide(A):\n",
    "    X, Y = A.shape\n",
    "    return A[:X//2,:Y//2],A[:X//2,Y//2:],A[X//2:,:Y//2],A[X//2:,Y//2:]"
   ]
  },
  {
   "cell_type": "code",
   "execution_count": 159,
   "id": "911881d0",
   "metadata": {},
   "outputs": [],
   "source": [
    "class MatrixTree:\n",
    "    def __init__(self, Matrix:np.ndarray):\n",
    "        self.matrix = Matrix\n",
    "        self.zeros = None\n",
    "        self.A11 = None\n",
    "        self.A12 = None\n",
    "        self.A21 = None\n",
    "        self.A22 = None\n",
    "        self.u = None\n",
    "        self.vT = None\n",
    "    def compute(self):\n",
    "        if self.matrix is not None:\n",
    "            return self.matrix\n",
    "        elif self.zeros is not None:\n",
    "            return np.zeros(self.zeros)\n",
    "        elif self.A11 is not None:\n",
    "            a11, a12, a21, a22 = (i.compute() for i in (self.A11, self.A12, self.A21, self.A22))\n",
    "            U = np.hstack((a11,a12))\n",
    "            L = np.hstack((a21,a22))\n",
    "            return np.vstack((U,L))\n",
    "        else:\n",
    "            return self.u @ self.vT\n",
    "    def paint(self):\n",
    "        #TO DO\n",
    "        pass"
   ]
  },
  {
   "cell_type": "code",
   "execution_count": 160,
   "id": "a2b3b5df",
   "metadata": {},
   "outputs": [],
   "source": [
    "def get_tolerated(v, tol, a = 0, b = None):\n",
    "    #print(\"a: \",a,end=\"\\t\")\n",
    "    #print(\"b: \",b,end=\"\\t\")\n",
    "    #wyszukiwanie binarne najmniejszego elementu niemniejszego od tolerance\n",
    "    if b == None:\n",
    "        b = len(v)-1\n",
    "    m = (a + b)//2\n",
    "    if v[b]>tol:\n",
    "        return v[:b+1]\n",
    "    #print(\"m: \",m)\n",
    "    val = v[m]\n",
    "    if  a == b:\n",
    "        if val >= tol:\n",
    "            return v[:m+1]\n",
    "        return []\n",
    "    if val < tol:\n",
    "        return get_tolerated(v, tol, a, m-1)\n",
    "    elif m+1<len(v) and v[m+1]<tol:\n",
    "        return v[:m+1]\n",
    "    return get_tolerated(v, tol, m, b)\n",
    "    "
   ]
  },
  {
   "cell_type": "code",
   "execution_count": 266,
   "id": "95d752ce",
   "metadata": {},
   "outputs": [],
   "source": [
    "def decompose(tree: MatrixTree, u: np.ndarray, d: np.ndarray, vT: np.ndarray) -> None:\n",
    "    if len(d)==0:\n",
    "        print(\"zero rank matrix\")\n",
    "        tree.zeros=tree.matrix.shape\n",
    "        tree.matrix = None\n",
    "        return\n",
    "    tree.matrix = None\n",
    "    d = np.diag(d) if len(d)>1 else np.array([d])\n",
    "    #print(\"d:\\t\",d)\n",
    "    #print(\"u:\\t\",u)\n",
    "    tree.u = u @ d\n",
    "    tree.vT = vT"
   ]
  },
  {
   "cell_type": "code",
   "execution_count": 267,
   "id": "7737ff78",
   "metadata": {},
   "outputs": [],
   "source": [
    "def compress(tree: MatrixTree, sigma: float, b: int, max_depth: int):\n",
    "    #print(tree.matrix.shape)\n",
    "    #print(max_depth)\n",
    "    if not np.any(tree.matrix > 0.0):\n",
    "        #print(tree.matrix.shape)\n",
    "        tree.zeros = tree.matrix.shape\n",
    "        tree.matrix = None\n",
    "        return\n",
    "    if max_depth == 0:\n",
    "        u, s, vT = np.linalg.svd(tree.matrix)\n",
    "        s = get_tolerated(s, sigma)[:b]\n",
    "        new_rank  = len(s)\n",
    "        u  =  u[:, :new_rank]\n",
    "        vT = vT[:new_rank, :]\n",
    "        decompose(tree, u, s, vT)\n",
    "        return\n",
    "    u, s, vT = np.linalg.svd(tree.matrix)\n",
    "    s = get_tolerated(s, sigma)\n",
    "    new_rank = len(s)\n",
    "    if new_rank <= b:\n",
    "        u  =  u[:, :new_rank]\n",
    "        vT = vT[:new_rank, :]\n",
    "        decompose(tree, u, s, vT)\n",
    "        return\n",
    "    else:\n",
    "        A11, A12, A21, A22 = divide(tree.matrix)\n",
    "        tree.matrix = None\n",
    "        tree.A11 = MatrixTree(A11)\n",
    "        tree.A12 = MatrixTree(A12)\n",
    "        tree.A21 = MatrixTree(A21)\n",
    "        tree.A22 = MatrixTree(A22)\n",
    "        compress(tree.A11, sigma, b, max_depth-1)\n",
    "        compress(tree.A12, sigma, b, max_depth-1)\n",
    "        compress(tree.A21, sigma, b, max_depth-1)\n",
    "        compress(tree.A22, sigma, b, max_depth-1)"
   ]
  },
  {
   "cell_type": "code",
   "execution_count": 303,
   "id": "3b65dee0",
   "metadata": {},
   "outputs": [],
   "source": [
    "A = random_matrix(64,0.2)"
   ]
  },
  {
   "cell_type": "code",
   "execution_count": 304,
   "id": "16d227c3",
   "metadata": {},
   "outputs": [],
   "source": [
    "t = MatrixTree(A)"
   ]
  },
  {
   "cell_type": "code",
   "execution_count": 305,
   "id": "7bf96158",
   "metadata": {},
   "outputs": [],
   "source": [
    "zeros = t.matrix.shape"
   ]
  },
  {
   "cell_type": "code",
   "execution_count": 306,
   "id": "0dff949f",
   "metadata": {},
   "outputs": [
    {
     "data": {
      "text/plain": [
       "(64, 64)"
      ]
     },
     "execution_count": 306,
     "metadata": {},
     "output_type": "execute_result"
    }
   ],
   "source": [
    "np.zeros(zeros).shape"
   ]
  },
  {
   "cell_type": "code",
   "execution_count": 307,
   "id": "7ae9918a",
   "metadata": {},
   "outputs": [
    {
     "name": "stdout",
     "output_type": "stream",
     "text": [
      "zero rank matrix\n"
     ]
    }
   ],
   "source": [
    "compress(t,0.01,4,4)"
   ]
  },
  {
   "cell_type": "code",
   "execution_count": 308,
   "id": "2a5c9589",
   "metadata": {},
   "outputs": [],
   "source": [
    "t.matrix"
   ]
  },
  {
   "cell_type": "code",
   "execution_count": 309,
   "id": "9affc893",
   "metadata": {},
   "outputs": [
    {
     "data": {
      "text/plain": [
       "array([[-0.34124709,  0.        ,  0.        , -0.93997363],\n",
       "       [ 0.93997363,  0.        ,  0.        , -0.34124709]])"
      ]
     },
     "execution_count": 309,
     "metadata": {},
     "output_type": "execute_result"
    }
   ],
   "source": [
    "t.A11.A11.A11.A11.vT"
   ]
  },
  {
   "cell_type": "code",
   "execution_count": 310,
   "id": "c9fe6ffc",
   "metadata": {},
   "outputs": [
    {
     "data": {
      "text/plain": [
       "<matplotlib.image.AxesImage at 0x22a693691c0>"
      ]
     },
     "execution_count": 310,
     "metadata": {},
     "output_type": "execute_result"
    },
    {
     "data": {
      "image/png": "[encoded data removed]",
      "text/plain": [
       "<Figure size 432x288 with 1 Axes>"
      ]
     },
     "metadata": {
      "needs_background": "light"
     },
     "output_type": "display_data"
    }
   ],
   "source": [
    "plt.imshow(t.compute()-A)"
   ]
  },
  {
   "cell_type": "code",
   "execution_count": 171,
   "id": "6b56fd9a",
   "metadata": {},
   "outputs": [
    {
     "data": {
      "text/plain": [
       "0.02067237079060069"
      ]
     },
     "execution_count": 171,
     "metadata": {},
     "output_type": "execute_result"
    }
   ],
   "source": [
    "np.linalg.norm(t.compute()-A)"
   ]
  }
 ],
 "metadata": {
  "kernelspec": {
   "display_name": "Python 3 (ipykernel)",
   "language": "python",
   "name": "python3"
  },
  "language_info": {
   "codemirror_mode": {
    "name": "ipython",
    "version": 3
   },
   "file_extension": ".py",
   "mimetype": "text/x-python",
   "name": "python",
   "nbconvert_exporter": "python",
   "pygments_lexer": "ipython3",
   "version": "3.9.12"
  }
 },
 "nbformat": 4,
 "nbformat_minor": 5
}
